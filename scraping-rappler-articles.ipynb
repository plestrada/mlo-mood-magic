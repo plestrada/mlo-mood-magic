{
 "cells": [
  {
   "cell_type": "code",
   "execution_count": null,
   "id": "5c3530c5",
   "metadata": {},
   "outputs": [],
   "source": [
    "import requests\n",
    "import pandas as pd\n",
    "import numpy as np\n",
    "from bs4 import BeautifulSoup \n",
    "import time"
   ]
  },
  {
   "cell_type": "markdown",
   "id": "bc2cf7c4",
   "metadata": {},
   "source": [
    "# Scraping the data"
   ]
  },
  {
   "cell_type": "code",
   "execution_count": null,
   "id": "5d9640b0",
   "metadata": {},
   "outputs": [],
   "source": [
    "# get total number of pages\n",
    "api_url = 'https://rappler.com/wp-json/wp/v2/posts?page=1&per_page=100&after=2022-01-01T00:00:00'\n",
    "\n",
    "response = requests.get(api_url)\n",
    "pages_count = response.headers['X-WP-TotalPages']\n",
    "n = int(pages_count)\n",
    "\n",
    "print(f'Total number of pages: {n}')"
   ]
  },
  {
   "cell_type": "code",
   "execution_count": null,
   "id": "984dd9d9",
   "metadata": {
    "scrolled": true
   },
   "outputs": [],
   "source": [
    "# trial run, get posts\n",
    "r = requests.get('http://rappler.com/wp-json/wp/v2/posts',\n",
    "                     params={'after': '2022-01-01 00:00:00.000'}\n",
    "                ).json()\n",
    "\n",
    "sample = pd.json_normalize(r)\n",
    "display(sample)"
   ]
  },
  {
   "cell_type": "code",
   "execution_count": null,
   "id": "000afb6b",
   "metadata": {
    "scrolled": true
   },
   "outputs": [],
   "source": [
    "# loop over the different pages\n",
    "data = list()\n",
    "current_page = 1\n",
    "\n",
    "while current_page <= n:\n",
    "    print(f'Scraping page: {current_page}...')\n",
    "    r = requests.get('http://rappler.com/wp-json/wp/v2/posts',\n",
    "                     params={'after': '2022-01-01 00:00:00.000',\n",
    "                             'page': current_page,\n",
    "                             'per_page':100}).json()\n",
    "    data.extend(r)\n",
    "    current_page += 1\n",
    "    time.sleep(np.random.randint(2,5))"
   ]
  },
  {
   "cell_type": "code",
   "execution_count": null,
   "id": "8acab52d",
   "metadata": {},
   "outputs": [],
   "source": [
    "df = pd.json_normalize(data)\n",
    "df[df.duplicated('id', keep=False)].sort_values('id')"
   ]
  },
  {
   "cell_type": "code",
   "execution_count": null,
   "id": "40efc97b",
   "metadata": {},
   "outputs": [],
   "source": [
    "df.drop_duplicates('id', keep='first', inplace=True)\n",
    "# df.to_csv('2022-rappler-articles.csv', index=False)"
   ]
  },
  {
   "cell_type": "markdown",
   "id": "5956d841",
   "metadata": {},
   "source": [
    "# Filtering data for processing"
   ]
  },
  {
   "cell_type": "code",
   "execution_count": null,
   "id": "ea8baa86",
   "metadata": {},
   "outputs": [],
   "source": [
    "df = pd.read_csv('2022-rappler-articles.csv')\n",
    "df.shape"
   ]
  },
  {
   "cell_type": "code",
   "execution_count": null,
   "id": "7b2d8bb4",
   "metadata": {},
   "outputs": [],
   "source": [
    "drop_features = ['prepublish_checks.xbs-valid-conversions.status',\n",
    "       'prepublish_checks.xbs-valid-conversions.message',\n",
    "       'prepublish_checks.xbs-valid-conversions.data',\n",
    "       'prepublish_checks.xbs-valid-fallback.status',\n",
    "       'prepublish_checks.xbs-valid-fallback.message',\n",
    "       'prepublish_checks.xbs-valid-fallback.data', 'ab_tests.titles.started',\n",
    "       'ab_tests.titles.start_time', 'ab_tests.titles.end_time',\n",
    "       'ab_tests.titles.traffic_percentage',\n",
    "       'ab_tests.titles.variant_traffic_percentage', 'ab_tests.titles.paused',\n",
    "       'ab_tests.featured_images.started',\n",
    "       'ab_tests.featured_images.start_time',\n",
    "       'ab_tests.featured_images.end_time',\n",
    "       'ab_tests.featured_images.traffic_percentage',\n",
    "       'ab_tests.featured_images.variant_traffic_percentage',\n",
    "       'ab_tests.featured_images.paused', '_links.self', '_links.collection',\n",
    "       '_links.about', '_links.replies', '_links.version-history',\n",
    "       '_links.predecessor-version', '_links.wp:featuredmedia',\n",
    "       '_links.wp:attachment', '_links.wp:term', '_links.curies', 'meta.claim_author_type',\n",
    "       'meta.claim_author_name', 'meta.claim_reviewed', 'meta.review_rating',\n",
    "       'meta.schema_article_type', 'template', 'status', 'type', 'ab_test_titles',\n",
    "       'ab_test_featured_images', 'sticky', 'format', 'content.protected', 'excerpt.protected'         \n",
    "                ]\n",
    "\n",
    "df.drop(columns=drop_features, inplace=True)"
   ]
  },
  {
   "cell_type": "code",
   "execution_count": null,
   "id": "7e3372a7",
   "metadata": {},
   "outputs": [],
   "source": [
    "df['title.rendered'] = df['title.rendered'].apply(lambda x: BeautifulSoup(x).text)\n",
    "df['content.rendered'] = df['content.rendered'].apply(lambda x: BeautifulSoup(x).string.strip())\n",
    "df['content.rendered'] = df['content.rendered'].str.replace('\\n',' ')"
   ]
  },
  {
   "cell_type": "code",
   "execution_count": null,
   "id": "75334128",
   "metadata": {},
   "outputs": [],
   "source": [
    "rel_cols = ['id', 'date', 'link', 'title.rendered', 'content.rendered']\n",
    "df[rel_cols].to_csv('2022-rappler-articles-clean.csv', index=False)"
   ]
  }
 ],
 "metadata": {
  "kernelspec": {
   "display_name": "Python 3 (ipykernel)",
   "language": "python",
   "name": "python3"
  },
  "language_info": {
   "codemirror_mode": {
    "name": "ipython",
    "version": 3
   },
   "file_extension": ".py",
   "mimetype": "text/x-python",
   "name": "python",
   "nbconvert_exporter": "python",
   "pygments_lexer": "ipython3",
   "version": "3.9.13"
  }
 },
 "nbformat": 4,
 "nbformat_minor": 5
}
